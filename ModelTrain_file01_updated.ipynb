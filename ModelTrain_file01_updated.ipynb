{
  "cells": [
    {
      "cell_type": "code",
      "execution_count": 0,
      "metadata": {
        "colab": {
          "base_uri": "https://localhost:8080/",
          "height": 85
        },
        "colab_type": "code",
        "id": "PlK-REqiMHY3",
        "outputId": "92fdfe75-c4ac-4f99-beb1-fb59ac3a0504"
      },
      "outputs": [
        {
          "name": "stdout",
          "output_type": "stream",
          "text": [
            "Collecting python-mnist\n",
            "  Downloading https://files.pythonhosted.org/packages/64/f0/6086b84427c3bf156ec0b3c2f9dfc1d770b35f942b9ed8a64f5229776a80/python_mnist-0.7-py2.py3-none-any.whl\n",
            "Installing collected packages: python-mnist\n",
            "Successfully installed python-mnist-0.7\n"
          ]
        }
      ],
      "source": [
        "!pip install python-mnist "
      ]
    },
    {
      "cell_type": "code",
      "execution_count": 0,
      "metadata": {
        "colab": {
          "base_uri": "https://localhost:8080/",
          "height": 122
        },
        "colab_type": "code",
        "id": "xv6SH_F2M1KC",
        "outputId": "84c36a0e-4af8-4a1b-c585-a906a4ee15dd"
      },
      "outputs": [
        {
          "name": "stdout",
          "output_type": "stream",
          "text": [
            "Go to this URL in a browser: https://accounts.google.com/o/oauth2/auth?client_id=947318989803-6bn6qk8qdgf4n4g3pfee6491hc0brc4i.apps.googleusercontent.com&redirect_uri=urn%3aietf%3awg%3aoauth%3a2.0%3aoob&response_type=code&scope=email%20https%3a%2f%2fwww.googleapis.com%2fauth%2fdocs.test%20https%3a%2f%2fwww.googleapis.com%2fauth%2fdrive%20https%3a%2f%2fwww.googleapis.com%2fauth%2fdrive.photos.readonly%20https%3a%2f%2fwww.googleapis.com%2fauth%2fpeopleapi.readonly\n",
            "\n",
            "Enter your authorization code:\n",
            "··········\n",
            "Mounted at /content/drive\n"
          ]
        }
      ],
      "source": [
        "from google.colab import drive\n",
        "drive.mount('/content/drive')"
      ]
    },
    {
      "cell_type": "code",
      "execution_count": 0,
      "metadata": {
        "colab": {
          "base_uri": "https://localhost:8080/",
          "height": 63
        },
        "colab_type": "code",
        "id": "YFbMGJtkMg1L",
        "outputId": "ac014ffa-8709-45f9-f07d-3bfc94b4bb8d"
      },
      "outputs": [
        {
          "data": {
            "text/html": [
              "<p style=\"color: red;\">\n",
              "The default version of TensorFlow in Colab will soon switch to TensorFlow 2.x.<br>\n",
              "We recommend you <a href=\"https://www.tensorflow.org/guide/migrate\" target=\"_blank\">upgrade</a> now \n",
              "or ensure your notebook will continue to use TensorFlow 1.x via the <code>%tensorflow_version 1.x</code> magic:\n",
              "<a href=\"https://colab.research.google.com/notebooks/tensorflow_version.ipynb\" target=\"_blank\">more info</a>.</p>\n"
            ],
            "text/plain": [
              "<IPython.core.display.HTML object>"
            ]
          },
          "metadata": {
            "tags": []
          },
          "output_type": "display_data"
        }
      ],
      "source": [
        "import tensorflow as tf\n",
        "from tensorflow.python.framework.graph_util import convert_variables_to_constants\n",
        "\n",
        "\n",
        "def freeze_graph(session, keep_var_names = None, output_names = None, clear_devices=True):\n",
        "    graph = session.graph\n",
        "    with graph.as_default():\n",
        "        fvr = list(set(v.op.name for v in tf.global_variables()).difference(keep_var_names or []))\n",
        "        output_names = output_names or []\n",
        "        output_names += [v.op.name for v in tf.global_variables()]\n",
        "        igf = graph.as_graph_def()\n",
        "        if clear_devices:\n",
        "            for node in igf.node:\n",
        "                node.device=''\n",
        "        frozen_graph= convert_variables_to_constants(session, igf, output_names, fvr)\n",
        "        return frozen_graph"
      ]
    },
    {
      "cell_type": "code",
      "execution_count": 0,
      "metadata": {
        "colab": {},
        "colab_type": "code",
        "id": "jmEyzaApMiO0"
      },
      "outputs": [],
      "source": [
        "#import tensorflow as tf\n",
        "\n",
        "#from fg import freeze_graph\n",
        "\n",
        "import numpy as np\n",
        "from mnist import MNIST\n"
      ]
    },
    {
      "cell_type": "code",
      "execution_count": 0,
      "metadata": {
        "colab": {},
        "colab_type": "code",
        "id": "3W5ggSOcNADn"
      },
      "outputs": [],
      "source": [
        "mndata = MNIST('data')\n",
        "#This will load the train and test data\n",
        "X_train, y_train = mndata.load('drive/My Drive/data/emnist-byclass-train-images-idx3-ubyte',\n",
        "                               'drive/My Drive/data/emnist-byclass-train-labels-idx1-ubyte')\n",
        "X_test, y_test = mndata.load('drive/My Drive/data/emnist-byclass-test-images-idx3-ubyte',\n",
        "                             'drive/My Drive/data/emnist-byclass-test-labels-idx1-ubyte')\n",
        "\n",
        "# Convert data to numpy arrays and normalize images to the interval [0, 1]\n",
        "X_train = np.array(X_train) / 255.0\n",
        "y_train = np.array(y_train)\n",
        "X_test = np.array(X_test) / 255.0\n",
        "y_test = np.array(y_test)\n",
        "\n"
      ]
    },
    {
      "cell_type": "code",
      "execution_count": 0,
      "metadata": {
        "colab": {
          "base_uri": "https://localhost:8080/",
          "height": 51
        },
        "colab_type": "code",
        "id": "70756O-nNJmJ",
        "outputId": "ff753375-d1d5-4966-acf8-0dfbb9f516c5"
      },
      "outputs": [
        {
          "name": "stdout",
          "output_type": "stream",
          "text": [
            "(697932, 28, 28)\n",
            "(116323, 28, 28)\n"
          ]
        }
      ],
      "source": [
        "X_train = X_train.reshape(X_train.shape[0], 28, 28)\n",
        "X_test = X_test.reshape(X_test.shape[0], 28, 28)\n",
        "print( X_train.shape)\n",
        "print (X_test.shape)\n"
      ]
    },
    {
      "cell_type": "code",
      "execution_count": 0,
      "metadata": {
        "colab": {
          "base_uri": "https://localhost:8080/",
          "height": 282
        },
        "colab_type": "code",
        "id": "gTd5j1SlNiO0",
        "outputId": "7533d0ab-4a26-4a8f-a511-c73232fd2b7a"
      },
      "outputs": [
        {
          "data": {
            "text/plain": [
              "<function matplotlib.pyplot.show>"
            ]
          },
          "execution_count": 7,
          "metadata": {
            "tags": []
          },
          "output_type": "execute_result"
        },
        {
          "data": {
            "image/png": "[encoded data removed]",
            "text/plain": [
              "<Figure size 432x288 with 1 Axes>"
            ]
          },
          "metadata": {
            "tags": []
          },
          "output_type": "display_data"
        }
      ],
      "source": [
        "from matplotlib import pyplot as plt\n",
        "#Display a random image\n",
        "plt.imshow(X_train[0])\n",
        "plt.show\n"
      ]
    },
    {
      "cell_type": "code",
      "execution_count": 0,
      "metadata": {
        "colab": {
          "base_uri": "https://localhost:8080/",
          "height": 1000
        },
        "colab_type": "code",
        "id": "Eeb76II-NiZi",
        "outputId": "a4269c8b-dbac-40e6-84eb-dbc9bf771f2a"
      },
      "outputs": [
        {
          "name": "stdout",
          "output_type": "stream",
          "text": [
            "[[0.         0.         0.         0.         0.         0.\n",
            "  0.         0.         0.         0.         0.         0.\n",
            "  0.         0.         0.         0.         0.         0.\n",
            "  0.         0.         0.         0.         0.         0.\n",
            "  0.         0.         0.         0.        ]\n",
            " [0.         0.         0.         0.         0.         0.\n",
            "  0.         0.         0.         0.         0.         0.\n",
            "  0.         0.         0.         0.         0.         0.\n",
            "  0.         0.         0.         0.         0.         0.\n",
            "  0.         0.         0.         0.        ]\n",
            " [0.         0.         0.         0.         0.         0.\n",
            "  0.         0.         0.         0.         0.         0.\n",
            "  0.         0.         0.         0.         0.         0.\n",
            "  0.         0.         0.         0.         0.         0.\n",
            "  0.         0.         0.         0.        ]\n",
            " [0.         0.         0.         0.         0.         0.\n",
            "  0.         0.         0.         0.         0.         0.\n",
            "  0.         0.         0.         0.         0.         0.\n",
            "  0.         0.         0.         0.         0.         0.\n",
            "  0.         0.         0.         0.        ]\n",
            " [0.         0.         0.         0.         0.         0.\n",
            "  0.         0.         0.         0.         0.         0.\n",
            "  0.         0.         0.         0.         0.         0.\n",
            "  0.         0.         0.         0.         0.         0.\n",
            "  0.         0.         0.         0.        ]\n",
            " [0.         0.         0.         0.         0.         0.\n",
            "  0.         0.         0.         0.         0.         0.\n",
            "  0.         0.         0.         0.         0.         0.\n",
            "  0.         0.         0.01568627 0.01568627 0.01568627 0.\n",
            "  0.         0.         0.         0.        ]\n",
            " [0.         0.         0.         0.         0.         0.\n",
            "  0.         0.         0.         0.         0.         0.\n",
            "  0.         0.         0.         0.00392157 0.07843137 0.1254902\n",
            "  0.14509804 0.2        0.44705882 0.49019608 0.44705882 0.17647059\n",
            "  0.01960784 0.         0.         0.        ]\n",
            " [0.         0.         0.         0.         0.         0.\n",
            "  0.         0.         0.         0.         0.         0.\n",
            "  0.         0.00784314 0.03529412 0.18431373 0.62352941 0.79215686\n",
            "  0.85098039 0.87058824 0.96078431 0.97647059 0.96078431 0.76078431\n",
            "  0.17647059 0.         0.         0.        ]\n",
            " [0.         0.         0.         0.         0.         0.\n",
            "  0.         0.         0.         0.         0.         0.00784314\n",
            "  0.04313725 0.30196078 0.54509804 0.81568627 0.96862745 0.99215686\n",
            "  0.99607843 0.98823529 0.98431373 0.99607843 0.99607843 0.96078431\n",
            "  0.45098039 0.01568627 0.         0.        ]\n",
            " [0.         0.         0.         0.         0.         0.\n",
            "  0.         0.         0.         0.         0.03137255 0.08235294\n",
            "  0.20392157 0.62352941 0.8627451  0.96470588 0.99607843 0.99607843\n",
            "  0.98823529 0.92941176 0.89019608 0.98039216 0.99607843 0.98039216\n",
            "  0.5372549  0.03137255 0.         0.        ]\n",
            " [0.         0.         0.         0.         0.         0.\n",
            "  0.         0.         0.00392157 0.12941176 0.49411765 0.66666667\n",
            "  0.8627451  0.96862745 0.99607843 0.99607843 0.96862745 0.91764706\n",
            "  0.80392157 0.77254902 0.70588235 0.94509804 0.99215686 0.98431373\n",
            "  0.62352941 0.0627451  0.         0.        ]\n",
            " [0.         0.         0.         0.         0.         0.\n",
            "  0.         0.00392157 0.1372549  0.63921569 0.95686275 0.98431373\n",
            "  0.99607843 0.99607843 0.96862745 0.86666667 0.70196078 0.55686275\n",
            "  0.72941176 0.96470588 0.98431373 0.99607843 0.99607843 0.98039216\n",
            "  0.50196078 0.01960784 0.         0.        ]\n",
            " [0.         0.         0.         0.         0.         0.\n",
            "  0.01176471 0.14117647 0.63921569 0.96078431 0.99607843 0.99607843\n",
            "  0.98823529 0.95294118 0.64313725 0.24313725 0.56078431 0.79215686\n",
            "  0.96862745 0.99607843 0.99607843 0.99607843 0.99607843 0.95294118\n",
            "  0.44313725 0.01568627 0.         0.        ]\n",
            " [0.         0.         0.         0.         0.00392157 0.12941176\n",
            "  0.30980392 0.68627451 0.96470588 0.99607843 0.99607843 0.98039216\n",
            "  0.7372549  0.45098039 0.14117647 0.31372549 0.8627451  0.96862745\n",
            "  0.99607843 0.99607843 1.         0.99607843 0.98823529 0.69411765\n",
            "  0.13333333 0.         0.         0.        ]\n",
            " [0.         0.         0.         0.         0.03921569 0.35686275\n",
            "  0.62352941 0.90980392 0.99215686 0.99607843 0.96078431 0.90196078\n",
            "  0.50196078 0.14117647 0.0627451  0.49803922 0.95686275 0.99215686\n",
            "  0.99607843 1.         1.         0.99607843 0.98039216 0.54509804\n",
            "  0.04313725 0.         0.         0.        ]\n",
            " [0.         0.         0.00392157 0.12941176 0.49803922 0.86666667\n",
            "  0.96470588 0.99607843 0.99215686 0.86666667 0.50196078 0.3254902\n",
            "  0.07843137 0.00392157 0.18039216 0.81568627 0.99607843 0.99607843\n",
            "  1.         1.         0.99607843 0.98431373 0.90980392 0.32156863\n",
            "  0.00784314 0.         0.         0.        ]\n",
            " [0.         0.         0.07843137 0.61960784 0.95686275 0.99607843\n",
            "  0.99607843 0.96862745 0.81176471 0.35686275 0.03921569 0.01176471\n",
            "  0.         0.01568627 0.44705882 0.96078431 0.99607843 0.99607843\n",
            "  1.         1.         0.99607843 0.90980392 0.67058824 0.08627451\n",
            "  0.         0.         0.         0.        ]\n",
            " [0.         0.         0.14117647 0.82745098 0.98431373 0.98039216\n",
            "  0.95294118 0.63921569 0.18431373 0.02745098 0.         0.\n",
            "  0.         0.01960784 0.50196078 0.98039216 0.99607843 1.\n",
            "  1.         0.99607843 0.98039216 0.66666667 0.3254902  0.01176471\n",
            "  0.         0.         0.         0.        ]\n",
            " [0.         0.         0.07058824 0.43137255 0.61960784 0.5372549\n",
            "  0.45098039 0.12941176 0.00392157 0.         0.         0.\n",
            "  0.         0.0627451  0.62352941 0.98431373 0.99607843 0.99607843\n",
            "  0.99607843 0.98039216 0.72941176 0.2627451  0.07843137 0.\n",
            "  0.         0.         0.         0.        ]\n",
            " [0.         0.         0.01960784 0.12941176 0.27058824 0.18823529\n",
            "  0.13333333 0.02745098 0.         0.         0.         0.\n",
            "  0.         0.0627451  0.61568627 0.98431373 0.99607843 0.99607843\n",
            "  0.98431373 0.90196078 0.49803922 0.08627451 0.01960784 0.\n",
            "  0.         0.         0.         0.        ]\n",
            " [0.         0.         0.         0.         0.00392157 0.\n",
            "  0.         0.         0.         0.         0.         0.\n",
            "  0.         0.01176471 0.30588235 0.80784314 0.95686275 0.95294118\n",
            "  0.68627451 0.3254902  0.07843137 0.         0.         0.\n",
            "  0.         0.         0.         0.        ]\n",
            " [0.         0.         0.         0.         0.         0.\n",
            "  0.         0.         0.         0.         0.         0.\n",
            "  0.         0.         0.02745098 0.18039216 0.43921569 0.43529412\n",
            "  0.13333333 0.01176471 0.         0.         0.         0.\n",
            "  0.         0.         0.         0.        ]\n",
            " [0.         0.         0.         0.         0.         0.\n",
            "  0.         0.         0.         0.         0.         0.\n",
            "  0.         0.         0.         0.         0.01176471 0.01176471\n",
            "  0.         0.         0.         0.         0.         0.\n",
            "  0.         0.         0.         0.        ]\n",
            " [0.         0.         0.         0.         0.         0.\n",
            "  0.         0.         0.         0.         0.         0.\n",
            "  0.         0.         0.         0.         0.         0.\n",
            "  0.         0.         0.         0.         0.         0.\n",
            "  0.         0.         0.         0.        ]\n",
            " [0.         0.         0.         0.         0.         0.\n",
            "  0.         0.         0.         0.         0.         0.\n",
            "  0.         0.         0.         0.         0.         0.\n",
            "  0.         0.         0.         0.         0.         0.\n",
            "  0.         0.         0.         0.        ]\n",
            " [0.         0.         0.         0.         0.         0.\n",
            "  0.         0.         0.         0.         0.         0.\n",
            "  0.         0.         0.         0.         0.         0.\n",
            "  0.         0.         0.         0.         0.         0.\n",
            "  0.         0.         0.         0.        ]\n",
            " [0.         0.         0.         0.         0.         0.\n",
            "  0.         0.         0.         0.         0.         0.\n",
            "  0.         0.         0.         0.         0.         0.\n",
            "  0.         0.         0.         0.         0.         0.\n",
            "  0.         0.         0.         0.        ]\n",
            " [0.         0.         0.         0.         0.         0.\n",
            "  0.         0.         0.         0.         0.         0.\n",
            "  0.         0.         0.         0.         0.         0.\n",
            "  0.         0.         0.         0.         0.         0.\n",
            "  0.         0.         0.         0.        ]]\n"
          ]
        }
      ],
      "source": [
        "#we can see how an image array looks like. all float values b/w 0 and 1 \n",
        "m = X_train[2]\n",
        "print(m)"
      ]
    },
    {
      "cell_type": "code",
      "execution_count": 0,
      "metadata": {
        "colab": {
          "base_uri": "https://localhost:8080/",
          "height": 282
        },
        "colab_type": "code",
        "id": "KnkuL2HNNifb",
        "outputId": "031ee586-c6e5-4271-d8ab-410bc41969e6"
      },
      "outputs": [
        {
          "data": {
            "text/plain": [
              "<function matplotlib.pyplot.show>"
            ]
          },
          "execution_count": 9,
          "metadata": {
            "tags": []
          },
          "output_type": "execute_result"
        },
        {
          "data": {
            "image/png": "[encoded data removed]",
            "text/plain": [
              "<Figure size 432x288 with 1 Axes>"
            ]
          },
          "metadata": {
            "tags": []
          },
          "output_type": "display_data"
        }
      ],
      "source": [
        "# ### Now we perform Image preprocessing. We reverse and rotate all train and test images\n",
        "\n",
        "#for train data\n",
        "for t in range(697932):\n",
        "    X_train[t]=np.transpose(X_train[t])\n",
        "    \n",
        "#checking\n",
        "plt.imshow(X_train[0])\n",
        "plt.show\n"
      ]
    },
    {
      "cell_type": "code",
      "execution_count": 0,
      "metadata": {
        "colab": {
          "base_uri": "https://localhost:8080/",
          "height": 282
        },
        "colab_type": "code",
        "id": "efmFUv4lNikC",
        "outputId": "6eef2e54-f74b-4650-e2cf-3f5a751e0eb0"
      },
      "outputs": [
        {
          "name": "stdout",
          "output_type": "stream",
          "text": [
            "Process Complete: Rotated and reversed test and train images!\n"
          ]
        },
        {
          "data": {
            "image/png": "[encoded data removed]",
            "text/plain": [
              "<Figure size 432x288 with 1 Axes>"
            ]
          },
          "metadata": {
            "tags": []
          },
          "output_type": "display_data"
        }
      ],
      "source": [
        " #for test data  \n",
        "for t in range(116323):\n",
        "    X_test[t]=np.transpose(X_test[t])\n",
        "\n",
        "#checking\n",
        "plt.imshow(X_test[1])\n",
        "plt.show\n",
        "\n",
        "print('Process Complete: Rotated and reversed test and train images!')\n",
        "\n"
      ]
    },
    {
      "cell_type": "code",
      "execution_count": 0,
      "metadata": {
        "colab": {
          "base_uri": "https://localhost:8080/",
          "height": 282
        },
        "colab_type": "code",
        "id": "xtbrKIdHNin7",
        "outputId": "10fc680b-9356-4c14-b609-14d7f1838b46"
      },
      "outputs": [
        {
          "data": {
            "text/plain": [
              "<function matplotlib.pyplot.show>"
            ]
          },
          "execution_count": 11,
          "metadata": {
            "tags": []
          },
          "output_type": "execute_result"
        },
        {
          "data": {
            "image/png": "[encoded data removed]",
            "text/plain": [
              "<Figure size 432x288 with 1 Axes>"
            ]
          },
          "metadata": {
            "tags": []
          },
          "output_type": "display_data"
        }
      ],
      "source": [
        "\n",
        "#Checking the last train image, just to be sure!\n",
        "m = X_train[697931]\n",
        "plt.imshow(m)\n",
        "plt.show\n",
        "\n"
      ]
    },
    {
      "cell_type": "code",
      "execution_count": 0,
      "metadata": {
        "colab": {
          "base_uri": "https://localhost:8080/",
          "height": 51
        },
        "colab_type": "code",
        "id": "3o__ZYwBNir8",
        "outputId": "e074ec5c-a764-4319-ba01-bf744f71a207"
      },
      "outputs": [
        {
          "name": "stdout",
          "output_type": "stream",
          "text": [
            "<built-in method reshape of numpy.ndarray object at 0x7f111ebaf440>\n",
            "<built-in method reshape of numpy.ndarray object at 0x7f111f05e7b0>\n"
          ]
        }
      ],
      "source": [
        "# ### Reshaping train and test data again for input into model\n",
        "#The last number is 1, which signifies that the images are greyscale\n",
        "X_train = X_train.reshape(X_train.shape[0], 784,1)\n",
        "X_test = X_test.reshape(X_test.shape[0], 784,1)\n",
        "\n",
        "print (X_train.reshape)\n",
        "print (X_test.reshape)"
      ]
    },
    {
      "cell_type": "code",
      "execution_count": 0,
      "metadata": {
        "colab": {
          "base_uri": "https://localhost:8080/",
          "height": 88
        },
        "colab_type": "code",
        "id": "PGWRJBsKN3zs",
        "outputId": "576f5226-0eaa-4735-bd1a-0332b160875a"
      },
      "outputs": [
        {
          "name": "stderr",
          "output_type": "stream",
          "text": [
            "Using TensorFlow backend.\n"
          ]
        },
        {
          "name": "stdout",
          "output_type": "stream",
          "text": [
            "WARNING:tensorflow:From /usr/local/lib/python3.6/dist-packages/keras/backend/tensorflow_backend.py:66: The name tf.get_default_graph is deprecated. Please use tf.compat.v1.get_default_graph instead.\n",
            "\n"
          ]
        }
      ],
      "source": [
        "# ### Creation of model\n",
        "\n",
        "\n",
        "from keras.models import Sequential\n",
        "from keras import optimizers\n",
        "from keras.layers import Convolution2D, MaxPooling2D, Dropout, Flatten, Dense, Reshape, LSTM\n",
        "from keras import backend as K\n",
        "from keras.constraints import maxnorm\n",
        "def resh(ipar):\n",
        "    opar = []\n",
        "    for image in ipar:\n",
        "        opar.append(image.reshape(-1))\n",
        "    return np.asarray(opar)\n",
        "\n",
        "from keras.utils import np_utils\n",
        "\n",
        "train_images = X_train.astype('float32')\n",
        "test_images = X_test.astype('float32')\n",
        "\n",
        "train_images = resh(train_images)\n",
        "test_images = resh(test_images)\n",
        "\n",
        "#one-hot encode target column\n",
        "train_labels = np_utils.to_categorical(y_train, 62)\n",
        "test_labels = np_utils.to_categorical(y_test, 62)\n",
        "\n",
        "\n",
        "K.set_learning_phase(1)\n"
      ]
    },
    {
      "cell_type": "code",
      "execution_count": 0,
      "metadata": {
        "colab": {},
        "colab_type": "code",
        "id": "wpeCNH03N33s"
      },
      "outputs": [],
      "source": [
        "model = Sequential()\n",
        "\n",
        "model.add(Reshape((28,28,1), input_shape=(784,)))\n",
        "\n",
        "#add the layer below for an accuracy of 89%.(Training time - over 20 hours)\n",
        "#model.add(Convolution2D(32, (5,5), input_shape=(28,28,1),activation='relu',padding='same',kernel_constraint=maxnorm(3))) #removed\n",
        "model.add(Convolution2D(32, (5,5),activation='relu', padding='same'))\n",
        "#model.add(MaxPooling2D(pool_size=(2,2))) #added\n",
        "#model.add(Dropout(0.25))#added\n",
        "model.add(Convolution2D(64, (5,5),activation='relu', padding='same'))\n",
        "model.add(MaxPooling2D(pool_size=(2,2)))\n",
        "#model.add(Dropout(0.3))#added\n",
        "#model.add(Convolution2D(64, (5,5),activation='relu', padding='same'))\n",
        "model.add(MaxPooling2D(pool_size=(2,2)))\n",
        "\n",
        "#model.add(Conv2D(filters=64, kernel_size=(3,3), activation='relu', padding='same'))#added\n",
        "#model.add(MaxPooling2D(pool_size=(2,2))) #added\n",
        "\n",
        "model.add(Dropout(0.4))#added\n",
        "model.add(Flatten())\n",
        "\n",
        "#model.add(Dense(1024, activation='relu', kernel_constraint=maxnorm(3)))\n",
        "model.add(Dense(512, activation='relu',kernel_constraint=maxnorm(3)))\n",
        "\n",
        "model.add(Dropout(0.5))\n",
        "\n",
        "model.add(Dense(62, activation='softmax'))\n",
        "\n",
        "#opt = optimizers.Adam(lr=0.001, beta_1=0.9, beta_2=0.999, epsilon=1e-8)\n",
        "#opt = optimizers.Adadelta()\n",
        "opt = optimizers.Adamax(lr=0.002, beta_1=0.9, beta_2=0.999, epsilon=None, decay=0.0)\n",
        "#compile model using accuracy to measure model performance\n",
        "model.compile(loss='categorical_crossentropy', optimizer=opt, metrics=['accuracy'])\n",
        "\n",
        "\n",
        "\n",
        "\n",
        "\n",
        "\n",
        "\n"
      ]
    },
    {
      "cell_type": "code",
      "execution_count": 0,
      "metadata": {
        "colab": {
          "base_uri": "https://localhost:8080/",
          "height": 1000
        },
        "colab_type": "code",
        "id": "HeA0ozWvN36s",
        "outputId": "e15d8840-93ba-4e06-da05-07930c1d9eb0"
      },
      "outputs": [
        {
          "name": "stdout",
          "output_type": "stream",
          "text": [
            "Model: \"sequential_3\"\n",
            "_________________________________________________________________\n",
            "Layer (type)                 Output Shape              Param #   \n",
            "=================================================================\n",
            "reshape_3 (Reshape)          (None, 28, 28, 1)         0         \n",
            "_________________________________________________________________\n",
            "conv2d_5 (Conv2D)            (None, 28, 28, 32)        832       \n",
            "_________________________________________________________________\n",
            "conv2d_6 (Conv2D)            (None, 28, 28, 64)        51264     \n",
            "_________________________________________________________________\n",
            "max_pooling2d_3 (MaxPooling2 (None, 14, 14, 64)        0         \n",
            "_________________________________________________________________\n",
            "max_pooling2d_4 (MaxPooling2 (None, 7, 7, 64)          0         \n",
            "_________________________________________________________________\n",
            "dropout_3 (Dropout)          (None, 7, 7, 64)          0         \n",
            "_________________________________________________________________\n",
            "flatten_3 (Flatten)          (None, 3136)              0         \n",
            "_________________________________________________________________\n",
            "dense_5 (Dense)              (None, 512)               1606144   \n",
            "_________________________________________________________________\n",
            "dropout_4 (Dropout)          (None, 512)               0         \n",
            "_________________________________________________________________\n",
            "dense_6 (Dense)              (None, 62)                31806     \n",
            "=================================================================\n",
            "Total params: 1,690,046\n",
            "Trainable params: 1,690,046\n",
            "Non-trainable params: 0\n",
            "_________________________________________________________________\n",
            "None\n",
            "Train on 697932 samples, validate on 116323 samples\n",
            "Epoch 1/15\n",
            "697932/697932 [==============================] - 524s 751us/step - loss: 0.5934 - acc: 0.8072 - val_loss: 0.4715 - val_acc: 0.8358\n",
            "Epoch 2/15\n",
            "697932/697932 [==============================] - 517s 741us/step - loss: 0.4417 - acc: 0.8446 - val_loss: 0.4288 - val_acc: 0.8489\n",
            "Epoch 3/15\n",
            "697932/697932 [==============================] - 514s 737us/step - loss: 0.4144 - acc: 0.8518 - val_loss: 0.4170 - val_acc: 0.8507\n",
            "Epoch 4/15\n",
            "697932/697932 [==============================] - 521s 746us/step - loss: 0.4006 - acc: 0.8559 - val_loss: 0.4034 - val_acc: 0.8547\n",
            "Epoch 5/15\n",
            "697932/697932 [==============================] - 519s 743us/step - loss: 0.3899 - acc: 0.8588 - val_loss: 0.3977 - val_acc: 0.8581\n",
            "Epoch 6/15\n",
            "697932/697932 [==============================] - 520s 746us/step - loss: 0.3834 - acc: 0.8605 - val_loss: 0.3926 - val_acc: 0.8579\n",
            "Epoch 7/15\n",
            "697932/697932 [==============================] - 519s 744us/step - loss: 0.3779 - acc: 0.8622 - val_loss: 0.3887 - val_acc: 0.8587\n",
            "Epoch 8/15\n",
            "697932/697932 [==============================] - 528s 756us/step - loss: 0.3730 - acc: 0.8636 - val_loss: 0.3898 - val_acc: 0.8608\n",
            "Epoch 9/15\n",
            "697932/697932 [==============================] - 539s 772us/step - loss: 0.3681 - acc: 0.8650 - val_loss: 0.3837 - val_acc: 0.8628\n",
            "Epoch 10/15\n",
            "697932/697932 [==============================] - 553s 792us/step - loss: 0.3652 - acc: 0.8657 - val_loss: 0.3816 - val_acc: 0.8612\n",
            "Epoch 11/15\n",
            "697932/697932 [==============================] - 567s 812us/step - loss: 0.3615 - acc: 0.8668 - val_loss: 0.3807 - val_acc: 0.8621\n",
            "Epoch 12/15\n",
            "697932/697932 [==============================] - 558s 800us/step - loss: 0.3597 - acc: 0.8674 - val_loss: 0.3788 - val_acc: 0.8633\n",
            "Epoch 13/15\n",
            "697932/697932 [==============================] - 548s 785us/step - loss: 0.3564 - acc: 0.8681 - val_loss: 0.3791 - val_acc: 0.8621\n",
            "Epoch 14/15\n",
            "697932/697932 [==============================] - 549s 787us/step - loss: 0.3546 - acc: 0.8689 - val_loss: 0.3789 - val_acc: 0.8624\n",
            "Epoch 15/15\n",
            "697932/697932 [==============================] - 547s 784us/step - loss: 0.3523 - acc: 0.8696 - val_loss: 0.3774 - val_acc: 0.8633\n"
          ]
        }
      ],
      "source": [
        " ### Training of model and evaluation\n",
        "\n",
        "# In[ ]:\n",
        "\n",
        "\n",
        "print(model.summary())\n",
        "#parameters: training data (train_X), target data (train_y), validation data, and the number of epochs.\n",
        "history = model.fit(train_images,train_labels,validation_data=(test_images, test_labels), batch_size=128, epochs=15)\n",
        "\n"
      ]
    },
    {
      "cell_type": "code",
      "execution_count": 0,
      "metadata": {
        "colab": {
          "base_uri": "https://localhost:8080/",
          "height": 34
        },
        "colab_type": "code",
        "id": "-kowbOahOQnM",
        "outputId": "a6daae09-65e4-4432-c234-412b645247e8"
      },
      "outputs": [
        {
          "name": "stdout",
          "output_type": "stream",
          "text": [
            "Accuracy: 86.31%\n"
          ]
        }
      ],
      "source": [
        "#evaluating model on test data. will take time\n",
        "scores = model.evaluate(test_images,test_labels, verbose = 0)\n",
        "print(\"Accuracy: %.2f%%\"%(scores[1]*100))"
      ]
    },
    {
      "cell_type": "code",
      "execution_count": 0,
      "metadata": {
        "colab": {
          "base_uri": "https://localhost:8080/",
          "height": 590
        },
        "colab_type": "code",
        "id": "p4iKzerGOQqr",
        "outputId": "9b072860-4594-4d9e-ae74-de8681fa6a1e"
      },
      "outputs": [
        {
          "name": "stdout",
          "output_type": "stream",
          "text": [
            "dict_keys(['val_loss', 'val_acc', 'loss', 'acc'])\n"
          ]
        },
        {
          "data": {
            "image/png": "[encoded data removed]",
            "text/plain": [
              "<Figure size 432x288 with 1 Axes>"
            ]
          },
          "metadata": {
            "tags": []
          },
          "output_type": "display_data"
        },
        {
          "data": {
            "image/png": "[encoded data removed]",
            "text/plain": [
              "<Figure size 432x288 with 1 Axes>"
            ]
          },
          "metadata": {
            "tags": []
          },
          "output_type": "display_data"
        }
      ],
      "source": [
        "# ## Creating model history graphs\n",
        "\n",
        "# In[ ]:\n",
        "\n",
        "\n",
        "print(history.history.keys())\n",
        "# summarize history for accuracy\n",
        "plt.plot(history.history['acc'])\n",
        "plt.plot(history.history['val_acc'])\n",
        "plt.title('Model Accuracy')\n",
        "plt.ylabel('Accuracy')\n",
        "plt.xlabel('Epoch')\n",
        "plt.legend(['Train', 'Test'], loc='upper left')\n",
        "plt.grid()\n",
        "plt.show()\n",
        "# summarize history for loss\n",
        "plt.plot(history.history['loss'])\n",
        "plt.plot(history.history['val_loss'])\n",
        "plt.title('Model loss')\n",
        "plt.ylabel('Loss')\n",
        "plt.xlabel('Epoch')\n",
        "plt.legend(['Train', 'Test'], loc='upper right')\n",
        "plt.grid()\n",
        "plt.show()\n"
      ]
    },
    {
      "cell_type": "code",
      "execution_count": 0,
      "metadata": {
        "colab": {
          "base_uri": "https://localhost:8080/",
          "height": 281
        },
        "colab_type": "code",
        "id": "B1CYzBfsOV5S",
        "outputId": "2550a33f-8d41-43c7-ba13-3da6267bb132"
      },
      "outputs": [
        {
          "data": {
            "image/png": "[encoded data removed]",
            "text/plain": [
              "<Figure size 432x288 with 1 Axes>"
            ]
          },
          "metadata": {
            "tags": []
          },
          "output_type": "display_data"
        }
      ],
      "source": [
        "objects = ('RMSDrop', 'Adam', 'Adamax', 'SGD', 'Adadelta')\n",
        "y_pos = np.arange(len(objects))\n",
        "performance = [86.2,85.39,89.53,84.29,87.11]\n",
        " \n",
        "plt.bar(y_pos, performance, align='center', alpha=0.5)\n",
        "plt.xticks(y_pos, objects)\n",
        "plt.ylabel('Accuracy')\n",
        "plt.title('Optimizers')\n",
        "plt.ylim(50,100)\n",
        "plt.show()\n"
      ]
    },
    {
      "cell_type": "code",
      "execution_count": 0,
      "metadata": {
        "colab": {
          "base_uri": "https://localhost:8080/",
          "height": 207
        },
        "colab_type": "code",
        "id": "ww_e74s2OV9E",
        "outputId": "46ec5f35-73b7-410a-a2c4-5d1cf1ed11f8"
      },
      "outputs": [
        {
          "name": "stdout",
          "output_type": "stream",
          "text": [
            "WARNING:tensorflow:From <ipython-input-3-2ca3ad00772b>:15: convert_variables_to_constants (from tensorflow.python.framework.graph_util_impl) is deprecated and will be removed in a future version.\n",
            "Instructions for updating:\n",
            "Use `tf.compat.v1.graph_util.convert_variables_to_constants`\n",
            "WARNING:tensorflow:From /tensorflow-1.15.0/python3.6/tensorflow_core/python/framework/graph_util_impl.py:277: extract_sub_graph (from tensorflow.python.framework.graph_util_impl) is deprecated and will be removed in a future version.\n",
            "Instructions for updating:\n",
            "Use `tf.compat.v1.graph_util.extract_sub_graph`\n",
            "INFO:tensorflow:Froze 71 variables.\n",
            "INFO:tensorflow:Converted 71 variables to const ops.\n",
            "reshape_3_input\n",
            "dense_6/Softmax\n"
          ]
        }
      ],
      "source": [
        "frozen_graph = freeze_graph(K.get_session(), output_names=[model.output.op.name])\n",
        "tf.train.write_graph(frozen_graph,'.','drive/My Drive/Colab Notebook/HCR-N/PBfile89531.pb',as_text=False)\n",
        "print(model.input.op.name)\n",
        "print(model.output.op.name)\n",
        "\n"
      ]
    },
    {
      "cell_type": "code",
      "execution_count": 0,
      "metadata": {
        "colab": {
          "base_uri": "https://localhost:8080/",
          "height": 282
        },
        "colab_type": "code",
        "id": "QWaDcZl_OeTc",
        "outputId": "3cd7c033-3a1b-4ab1-d003-4cae6d7026fa"
      },
      "outputs": [
        {
          "name": "stdout",
          "output_type": "stream",
          "text": [
            "prediction: [7]\n"
          ]
        },
        {
          "data": {
            "image/png": "[encoded data removed]",
            "text/plain": [
              "<Figure size 432x288 with 1 Axes>"
            ]
          },
          "metadata": {
            "tags": []
          },
          "output_type": "display_data"
        }
      ],
      "source": [
        "# ## Predicting a single image using the model\n",
        "\n",
        "# In[ ]:\n",
        "\n",
        "\n",
        "m = X_test[258].reshape(28,28)\n",
        "plt.imshow(m)\n",
        "plt.show\n",
        "print('prediction: '+str(model.predict_classes(X_test[258].reshape(1,784))))"
      ]
    },
    {
      "cell_type": "code",
      "execution_count": 0,
      "metadata": {
        "colab": {},
        "colab_type": "code",
        "id": "naE3314DOeW0"
      },
      "outputs": [],
      "source": [
        "from keras.models import load_model\n",
        "from keras.models import model_from_json\n",
        "\n",
        "model_json = model.to_json()\n",
        "with open(\"drive/My Drive/Colab Notebook/HCR-N/model1.json\", \"w\") as json_file:\n",
        "    json_file.write(model_json)\n",
        "#saves the model info as json file\n",
        "    \n",
        "model.save_weights(\"drive/My Drive/Colab Notebook/HCR-N/model1.h5\")\n",
        "# Creates a HDF5 file 'model.h5'\n",
        "\n",
        "\n",
        "# # For usage of this model to predict words, open segment.ipynb"
      ]
    },
    {
      "cell_type": "code",
      "execution_count": 0,
      "metadata": {
        "colab": {},
        "colab_type": "code",
        "id": "n-BPTbrlOhK6"
      },
      "outputs": [],
      "source": []
    }
  ],
  "metadata": {
    "accelerator": "TPU",
    "colab": {
      "collapsed_sections": [],
      "machine_shape": "hm",
      "name": "Copy of ModelTrain-N",
      "provenance": []
    },
    "kernelspec": {
      "display_name": "Python 3",
      "name": "python3"
    }
  },
  "nbformat": 4,
  "nbformat_minor": 0
}
